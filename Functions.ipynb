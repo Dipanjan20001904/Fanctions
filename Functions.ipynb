{
  "nbformat": 4,
  "nbformat_minor": 0,
  "metadata": {
    "colab": {
      "provenance": []
    },
    "kernelspec": {
      "name": "python3",
      "display_name": "Python 3"
    },
    "language_info": {
      "name": "python"
    }
  },
  "cells": [
    {
      "cell_type": "markdown",
      "source": [
        "# Functions\n"
      ],
      "metadata": {
        "id": "VOH2BoxiP8i6"
      }
    },
    {
      "cell_type": "markdown",
      "source": [
        "1. What is the difference between a function and a method in Python?\n",
        "\n",
        "- Function:\n",
        "\n",
        "a. A function is a block of code that performs a specific task.\n",
        "\n",
        "b. It is defined using the def keyword.\n",
        "\n",
        "c. It can be called independently.\n",
        "\n",
        "d. Functions can be reused, making code more organized and manageable.\n",
        "\n",
        "Example:\n",
        "print(): A function that prints a message to the screen\n",
        "\n",
        "\n",
        "- Method:\n",
        "\n",
        "a. A method is also a block of code that performs a specific task.\n",
        "\n",
        "b. It is associated with an object/class.\n",
        "\n",
        "c. It is called using the dot operator (.) on an object.\n",
        "\n",
        "d. Methods are applicable only for object-oriented programming languages.\n",
        "\n",
        "Example:\n",
        "\n",
        " .append, .insert, .remove, .sort\n",
        "\n",
        " 2. Explain the concept of function arguments and parameters in Python.\n",
        "\n",
        " - Parameters:\n",
        "\n",
        "a. Parameters are the variables listed inside the parentheses in the function definition. They act as placeholders for the values that will be passed to the function when it's called.\n",
        "\n",
        "b.Parameters define the input that a function expects to receive. They give names to the values that the function will work with.\n",
        "\n",
        "Example:\n",
        "\n",
        "In this example, name and age are the parameters of the greet function."
      ],
      "metadata": {
        "id": "KchGTmovQlFv"
      }
    },
    {
      "cell_type": "code",
      "source": [
        "def greet(name, age):\n",
        "    print(f\"Hello, {name}! You are {age} years old.\")"
      ],
      "metadata": {
        "id": "v3BmzhbhZHCF"
      },
      "execution_count": 42,
      "outputs": []
    },
    {
      "cell_type": "markdown",
      "source": [
        "- Arguments\n",
        "\n",
        "a. Arguments are the actual values that are passed to a function when it is called. They correspond to the parameters in the function definition.\n",
        "b. Arguments provide the specific data that the function will use during its execution. They fill the placeholders defined by the parameters.\n",
        "\n",
        "Example:\n",
        "\n",
        "Here, \"Alice\" and 30 are the arguments passed to the greet function. \"Alice\" is assigned to the name parameter, and 30 is assigned to the age parameter."
      ],
      "metadata": {
        "id": "zwx8teC1ZP-V"
      }
    },
    {
      "cell_type": "code",
      "source": [
        "greet(\"Alice\", 30)"
      ],
      "metadata": {
        "id": "C_rkJx0pZuFF",
        "colab": {
          "base_uri": "https://localhost:8080/"
        },
        "outputId": "3e90c8bf-2935-42ed-da19-19c18d0584f8"
      },
      "execution_count": 2,
      "outputs": [
        {
          "output_type": "stream",
          "name": "stdout",
          "text": [
            "Hello, Alice! You are 30 years old.\n"
          ]
        }
      ]
    },
    {
      "cell_type": "markdown",
      "source": [
        "3. What are the different ways to define and call a function in Python?\n",
        "\n",
        "- Defining a Function:\n",
        "\n",
        "In Python, we define a function using the def keyword followed by the function name, parentheses (), and a colon.\n",
        "\n",
        "- Calling a Function\n",
        "\n",
        "To call a function, simply use its name followed by parentheses (), and pass any required arguments within the parentheses.\n",
        "\n",
        "This line of code calls the greet function with the argument \"Dip\", resulting in the output \"Hello, Dip!\".\n"
      ],
      "metadata": {
        "id": "8aP3D3utaAS8"
      }
    },
    {
      "cell_type": "code",
      "source": [
        "def greet(name):\n",
        "  print(f\"Hello, {name}!\")\n"
      ],
      "metadata": {
        "id": "7uFY-9HdbThr"
      },
      "execution_count": 3,
      "outputs": []
    },
    {
      "cell_type": "code",
      "source": [
        "greet(\"Dip\")"
      ],
      "metadata": {
        "colab": {
          "base_uri": "https://localhost:8080/"
        },
        "id": "ZDzid3Zwcrgz",
        "outputId": "3d423509-320c-4ea2-f144-798457a24c15"
      },
      "execution_count": 4,
      "outputs": [
        {
          "output_type": "stream",
          "name": "stdout",
          "text": [
            "Hello, Dip!\n"
          ]
        }
      ]
    },
    {
      "cell_type": "markdown",
      "source": [
        "- Different Ways to Call a Function\n",
        "\n",
        "1. Calling a Function with Positional Arguments.\n",
        "\n",
        "Positional arguments are passed to a function in the order they are defined in the function definition."
      ],
      "metadata": {
        "id": "6rp_xzopdKri"
      }
    },
    {
      "cell_type": "code",
      "source": [
        "def add(x, y):\n",
        "  return x + y\n",
        "  a=add(5, 3)\n"
      ],
      "metadata": {
        "id": "j86jnA2jcs4p"
      },
      "execution_count": 40,
      "outputs": []
    },
    {
      "cell_type": "code",
      "source": [
        "a"
      ],
      "metadata": {
        "colab": {
          "base_uri": "https://localhost:8080/"
        },
        "id": "FOQJ4u6ZeKJh",
        "outputId": "498652e7-6c24-4417-fcc3-e5be383d685c"
      },
      "execution_count": 41,
      "outputs": [
        {
          "output_type": "execute_result",
          "data": {
            "text/plain": [
              "<generator object my_generator at 0x7a21ae41b920>"
            ]
          },
          "metadata": {},
          "execution_count": 41
        }
      ]
    },
    {
      "cell_type": "markdown",
      "source": [
        "2. Calling a Function with Keyword Arguments:\n",
        "\n",
        "Keyword arguments are passed to a function using the parameter name and an equals sign =. This allows us to specify arguments in any order."
      ],
      "metadata": {
        "id": "wnoWtrqnezUg"
      }
    },
    {
      "cell_type": "code",
      "source": [
        "result = add(y=3, x=5)"
      ],
      "metadata": {
        "id": "mmOrDYone9VP"
      },
      "execution_count": 38,
      "outputs": []
    },
    {
      "cell_type": "code",
      "source": [
        "result"
      ],
      "metadata": {
        "id": "YDoKYH5ee_Nn",
        "colab": {
          "base_uri": "https://localhost:8080/"
        },
        "outputId": "e24faf6f-7078-457c-b641-79a0261f485f"
      },
      "execution_count": 39,
      "outputs": [
        {
          "output_type": "execute_result",
          "data": {
            "text/plain": [
              "8"
            ]
          },
          "metadata": {},
          "execution_count": 39
        }
      ]
    },
    {
      "cell_type": "markdown",
      "source": [
        "3. Calling a Function with Default Arguments:\n",
        "\n",
        "Default arguments are values assigned to parameters in the function definition. If an argument is not provided when calling the function, the default value will be used."
      ],
      "metadata": {
        "id": "amFqg8y6fWAP"
      }
    },
    {
      "cell_type": "code",
      "source": [
        "def greet(name=\"World\"):\n",
        "  print(f\"Hello, {name}!\")\n",
        "\n",
        "greet()"
      ],
      "metadata": {
        "id": "nTIfflEvfhFP",
        "colab": {
          "base_uri": "https://localhost:8080/"
        },
        "outputId": "27f203e0-4dbd-4911-9e25-f4e4a59c6c54"
      },
      "execution_count": 37,
      "outputs": [
        {
          "output_type": "stream",
          "name": "stdout",
          "text": [
            "Hello, World!\n"
          ]
        }
      ]
    },
    {
      "cell_type": "markdown",
      "source": [
        "4. What is the purpose of the `return` statement in a Python function?\n",
        "\n",
        "- The return statement is used to exit a function and hand back a value to its caller. When a function is called, it executes the code within its body. When it encounters a return statement, it immediately stops execution and returns the specified value to the caller."
      ],
      "metadata": {
        "id": "JBondSZ-fuuO"
      }
    },
    {
      "cell_type": "code",
      "source": [
        "def add(x, y):\n",
        "  return x + y\n",
        "  a=add(5, 3)"
      ],
      "metadata": {
        "id": "L5SJuo_Xgg_-"
      },
      "execution_count": 35,
      "outputs": []
    },
    {
      "cell_type": "code",
      "source": [
        "a"
      ],
      "metadata": {
        "id": "TvvKS8PfixJL",
        "colab": {
          "base_uri": "https://localhost:8080/"
        },
        "outputId": "f3161cf0-ef0d-4ba3-caa5-4a3d2252acca"
      },
      "execution_count": 36,
      "outputs": [
        {
          "output_type": "execute_result",
          "data": {
            "text/plain": [
              "<generator object my_generator at 0x7a21ae41b920>"
            ]
          },
          "metadata": {},
          "execution_count": 36
        }
      ]
    },
    {
      "cell_type": "markdown",
      "source": [
        "5.  What are iterators in Python and how do they differ from iterables?\n",
        "\n",
        "- In Python, an iterator is an object that lets us loop through a sequence of values, one at a time. Iterators are used to work with lists, tuples, dictionaries, and sets.\n",
        "\n",
        "- Differnces between iterators and iterables :\n",
        "\n",
        "a. Iterables are objects we can loop over, while iterators are used to retrieve the next value in the sequence.\n",
        "\n",
        "b. Iterables implement iter() to return an iterator, while iterators implement next() to fetch the next item.\n",
        "\n",
        "c.  Iterators maintain state (the current position), while iterables do not.\n",
        "\n",
        "Example:"
      ],
      "metadata": {
        "id": "e3GNbtGijC4b"
      }
    },
    {
      "cell_type": "code",
      "source": [
        "list_a = [1, 2, 3]  # list_a is an iterable\n",
        "my_iterator = iter(list_a)  # Get an iterator from the list"
      ],
      "metadata": {
        "id": "gKmp0OZSiyJk"
      },
      "execution_count": 30,
      "outputs": []
    },
    {
      "cell_type": "code",
      "source": [
        "print(next(my_iterator))"
      ],
      "metadata": {
        "id": "l7Y1D0wiq9Of",
        "colab": {
          "base_uri": "https://localhost:8080/"
        },
        "outputId": "b90ff7d1-815c-4805-e2a6-b8535b4bdc72"
      },
      "execution_count": 31,
      "outputs": [
        {
          "output_type": "stream",
          "name": "stdout",
          "text": [
            "1\n"
          ]
        }
      ]
    },
    {
      "cell_type": "code",
      "source": [
        "print(next(my_iterator))"
      ],
      "metadata": {
        "id": "xNg85mOcrBHu",
        "colab": {
          "base_uri": "https://localhost:8080/"
        },
        "outputId": "a194ebcf-08e3-4e39-f32d-04edc2c4e703"
      },
      "execution_count": 32,
      "outputs": [
        {
          "output_type": "stream",
          "name": "stdout",
          "text": [
            "2\n"
          ]
        }
      ]
    },
    {
      "cell_type": "code",
      "source": [
        "print(next(my_iterator))"
      ],
      "metadata": {
        "id": "cb0Cc307rCf9",
        "colab": {
          "base_uri": "https://localhost:8080/"
        },
        "outputId": "7ba90b4e-0eda-443b-8c8a-5b5dfb453e1f"
      },
      "execution_count": 33,
      "outputs": [
        {
          "output_type": "stream",
          "name": "stdout",
          "text": [
            "3\n"
          ]
        }
      ]
    },
    {
      "cell_type": "code",
      "source": [
        "print(next(my_iterator))"
      ],
      "metadata": {
        "id": "QaLkBWqdrDjN",
        "colab": {
          "base_uri": "https://localhost:8080/",
          "height": 147
        },
        "outputId": "bb6754ae-6b93-49a3-b3b4-a785139beb6b"
      },
      "execution_count": 34,
      "outputs": [
        {
          "output_type": "error",
          "ename": "StopIteration",
          "evalue": "",
          "traceback": [
            "\u001b[0;31m---------------------------------------------------------------------------\u001b[0m",
            "\u001b[0;31mStopIteration\u001b[0m                             Traceback (most recent call last)",
            "\u001b[0;32m<ipython-input-34-8b90ca3bf810>\u001b[0m in \u001b[0;36m<cell line: 0>\u001b[0;34m()\u001b[0m\n\u001b[0;32m----> 1\u001b[0;31m \u001b[0mprint\u001b[0m\u001b[0;34m(\u001b[0m\u001b[0mnext\u001b[0m\u001b[0;34m(\u001b[0m\u001b[0mmy_iterator\u001b[0m\u001b[0;34m)\u001b[0m\u001b[0;34m)\u001b[0m\u001b[0;34m\u001b[0m\u001b[0;34m\u001b[0m\u001b[0m\n\u001b[0m",
            "\u001b[0;31mStopIteration\u001b[0m: "
          ]
        }
      ]
    },
    {
      "cell_type": "markdown",
      "source": [
        "6. Explain the concept of generators in Python and how they are defined.\n",
        "\n",
        "- Generators are special functions in Python that produce a sequence of values, one at a time, instead of generating all values at once and storing them in memory. They are defined using the yield keyword instead of return.\n",
        "\n",
        "- a. When a generator function is called, it doesn't execute the entire function body immediately. Instead, it returns a generator object.\n",
        "\n",
        "- b. The generator object only produces the next value in the sequence when it is requested.\n",
        "\n",
        "- c. Generators maintain their internal state between calls to next(). This allows them to remember where they left off and resume execution from that point.\n",
        "\n",
        "- d. Since values are generated on demand, generators are very memory-efficient, especially when dealing with large datasets."
      ],
      "metadata": {
        "id": "KW0JFlfnrKD9"
      }
    },
    {
      "cell_type": "code",
      "source": [
        "def my_generator(n):\n",
        "    for i in range(n):\n",
        "        yield i  # Using yield instead of return\n",
        "\n",
        "a = my_generator(3)  # Creating a generator object. here (3)"
      ],
      "metadata": {
        "id": "kJyKXOf_sfbs"
      },
      "execution_count": 25,
      "outputs": []
    },
    {
      "cell_type": "code",
      "source": [
        "print(next(a))"
      ],
      "metadata": {
        "id": "6mP9eyvjspm3",
        "colab": {
          "base_uri": "https://localhost:8080/"
        },
        "outputId": "1ca6f536-0b50-4a2b-d73d-70d4379f04ef"
      },
      "execution_count": 26,
      "outputs": [
        {
          "output_type": "stream",
          "name": "stdout",
          "text": [
            "0\n"
          ]
        }
      ]
    },
    {
      "cell_type": "code",
      "source": [
        "print(next(a))"
      ],
      "metadata": {
        "id": "UvRHv7M4s8i_",
        "colab": {
          "base_uri": "https://localhost:8080/"
        },
        "outputId": "07319aad-e03d-475b-cd3a-8d487b696a91"
      },
      "execution_count": 27,
      "outputs": [
        {
          "output_type": "stream",
          "name": "stdout",
          "text": [
            "1\n"
          ]
        }
      ]
    },
    {
      "cell_type": "code",
      "source": [
        "print(next(a))"
      ],
      "metadata": {
        "id": "G9MRA3uNtAZD",
        "colab": {
          "base_uri": "https://localhost:8080/"
        },
        "outputId": "8edabc3b-e9b9-449c-beb5-c88b3eac879a"
      },
      "execution_count": 28,
      "outputs": [
        {
          "output_type": "stream",
          "name": "stdout",
          "text": [
            "2\n"
          ]
        }
      ]
    },
    {
      "cell_type": "code",
      "source": [
        "print(next(a))"
      ],
      "metadata": {
        "id": "YnkTC7TAtC6r",
        "colab": {
          "base_uri": "https://localhost:8080/",
          "height": 147
        },
        "outputId": "cdabb167-5d32-464d-a2a3-2552320f1766"
      },
      "execution_count": 29,
      "outputs": [
        {
          "output_type": "error",
          "ename": "StopIteration",
          "evalue": "",
          "traceback": [
            "\u001b[0;31m---------------------------------------------------------------------------\u001b[0m",
            "\u001b[0;31mStopIteration\u001b[0m                             Traceback (most recent call last)",
            "\u001b[0;32m<ipython-input-29-94b12d3903f7>\u001b[0m in \u001b[0;36m<cell line: 0>\u001b[0;34m()\u001b[0m\n\u001b[0;32m----> 1\u001b[0;31m \u001b[0mprint\u001b[0m\u001b[0;34m(\u001b[0m\u001b[0mnext\u001b[0m\u001b[0;34m(\u001b[0m\u001b[0ma\u001b[0m\u001b[0;34m)\u001b[0m\u001b[0;34m)\u001b[0m\u001b[0;34m\u001b[0m\u001b[0;34m\u001b[0m\u001b[0m\n\u001b[0m",
            "\u001b[0;31mStopIteration\u001b[0m: "
          ]
        }
      ]
    },
    {
      "cell_type": "markdown",
      "source": [
        "7. What are the advantages of using generators over regular functions?\n",
        "\n",
        " - 1. Memory Efficiency\n",
        "\n",
        "Generators: Produce values on demand, so they don't store the entire sequence in memory at once. This is extremely beneficial when dealing with large datasets or infinite sequences.\n",
        "\n",
        "Regular Functions: Typically generate all values and store them in a list or other data structure before returning, which can lead to high memory consumption.\n",
        "\n",
        "2. Lazy Evaluation\n",
        "\n",
        "Generators: Values are generated only when requested (using next() or in a loop). This can improve performance, especially if you don't need to access all values in the sequence.\n",
        "Regular Functions: Calculate all values eagerly, even if you only need a subset of them.\n",
        "3. Readability and Conciseness\n",
        "\n",
        "Generators: Often lead to more concise and readable code for complex iterations, as they encapsulate the iteration logic within the generator function.\n",
        "\n",
        "Regular Functions: Might require explicit loops and temporary variables to achieve the same functionality, making the code potentially longer and harder to understand.\n",
        "4. Infinite Sequences\n",
        "\n",
        "Generators: Can represent infinite sequences without running out of memory, as they generate values one at a time.\n",
        "\n",
        "Regular Functions: Cannot represent infinite sequences directly, as they would need to store an infinite number of values, leading to memory errors.\n",
        "5. Pipelining\n",
        "\n",
        "Generators: Can be easily chained together (pipelined) to perform a series of operations on a sequence of data, improving efficiency and code organization.\n",
        "\n",
        "Regular Functions: Often require intermediate data structures to store results between function calls, potentially impacting performance.\n",
        "\n",
        "\n",
        "8.  What is a lambda function in Python and when is it typically used?\n",
        "\n",
        "- A lambda function is a small, anonymous function defined using the lambda keyword. It can have any number of arguments but can only have one expression. Lambda functions are often referred to as \"anonymous functions\" because they don't have a name like regular functions defined with def.\n",
        "\n",
        "Syntax:  \n",
        "lambda arguments : expression                                 \n",
        "\n",
        "\n",
        "- Lambda functions are typically used in the following cases:\n",
        "\n",
        "Short, Simple Functions: When you need a simple function for a short-term task, a lambda function can be more concise than defining a regular function using def.\n",
        "\n",
        "Higher-Order Functions: Lambda functions are commonly used as arguments to higher-order functions like map, filter, and sorted. These functions take other functions as input and apply them to elements of a sequence.\n",
        "\n",
        "One-Time Use: If you need a function only once and don't want to clutter your code with a named function definition, a lambda function is a good choice.\n",
        "\n",
        "Callbacks: In some cases, lambda functions can be used as callbacks, which are functions passed to other functions to be executed later.\n",
        "\n",
        "\n",
        "9. Explain the purpose and usage of the `map()` function in Python.\n",
        "\n",
        "-  The map() function is a built-in function in Python that applies a given function to each item of an iterable (such as a list, tuple, or string) and returns an iterator containing the results.\n",
        "\n",
        "Syntax: map(function, iterable)"
      ],
      "metadata": {
        "id": "WnC2ctlZtGC7"
      }
    },
    {
      "cell_type": "code",
      "source": [
        "# Using map() to square each number in a list\n",
        "\n",
        "numbers = [1, 2, 3, 4, 5]\n",
        "sqr_num = list(map(lambda x: x**2, numbers)) # Here map(function= lambda x: x**2 , iterables= numbers)\n",
        "print(sqr_num)"
      ],
      "metadata": {
        "id": "A5v-Erxuv37j",
        "colab": {
          "base_uri": "https://localhost:8080/"
        },
        "outputId": "2beee36a-2f30-4c45-bdba-920beb308c7d"
      },
      "execution_count": 23,
      "outputs": [
        {
          "output_type": "stream",
          "name": "stdout",
          "text": [
            "[1, 4, 9, 16, 25]\n"
          ]
        }
      ]
    },
    {
      "cell_type": "markdown",
      "source": [
        "10. What is the difference between `map()`, `reduce()`, and `filter()` functions in Python?\n",
        "\n",
        "- 1. map()\n",
        "\n",
        "Purpose: Applies a function to each item in an iterable (like a list, tuple, etc.) and returns a new iterable with the results.\n",
        "\n",
        "Syntax: map(function, iterable)\n",
        "\n",
        "- 2. filter()\n",
        "\n",
        "Purpose: Filters elements from an iterable based on a function's condition. It returns a new iterable containing only the elements for which the function returns\n",
        "True.\n",
        "\n",
        "Syntax: filter(function, iterable)\n",
        "\n",
        "- 3. reduce()\n",
        "\n",
        "Purpose: Applies a function cumulatively to the items of an iterable, reducing them to a single value.\n",
        "\n",
        "Syntax: reduce(function, iterable)\n",
        "\n",
        "You need to import reduce from the functools module to use it."
      ],
      "metadata": {
        "id": "dynlkWEtwo_H"
      }
    },
    {
      "cell_type": "code",
      "source": [],
      "metadata": {
        "id": "oxhv744CyFVG"
      },
      "execution_count": null,
      "outputs": []
    },
    {
      "cell_type": "code",
      "source": [],
      "metadata": {
        "id": "ckf1bzhSyHQW"
      },
      "execution_count": null,
      "outputs": []
    },
    {
      "cell_type": "code",
      "source": [
        "# 1. . Write a Python function that takes a list of numbers as input and returns the sum of all even numbers in the list.\n",
        "\n",
        "\n",
        "def sum_even_num(number):\n",
        "  sum_of_even = 0\n",
        "  for i in number:\n",
        "    if i % 2 == 0:\n",
        "      sum_of_even += i\n",
        "  return sum_of_even\n",
        "\n",
        "number=[1,2,3,4,5,6,7,8,9,10,11,12]\n",
        "sum= sum_even_num(number)\n",
        "print(f\"The sum of even numbers in the list is: {sum}\")\n",
        "\n"
      ],
      "metadata": {
        "colab": {
          "base_uri": "https://localhost:8080/"
        },
        "id": "_OLE9iHfyG4c",
        "outputId": "324b46e2-696a-4997-f8d6-b9282196af11"
      },
      "execution_count": 8,
      "outputs": [
        {
          "output_type": "stream",
          "name": "stdout",
          "text": [
            "The sum of even numbers in the list is: 42\n"
          ]
        }
      ]
    },
    {
      "cell_type": "code",
      "source": [
        "# 2. Create a Python function that accepts a string and returns the reverse of that string.\n",
        "\n",
        "def reverse_string(input_a_string):\n",
        "  return input_a_string[::-1]\n",
        "\n",
        "string= reverse_string(\"He is going to school\")\n",
        "print(f\"1.{string}\")\n",
        "\n",
        "string= reverse_string(\"fool\")\n",
        "print(f\"2.{string}\")\n",
        "\n",
        "\n"
      ],
      "metadata": {
        "colab": {
          "base_uri": "https://localhost:8080/"
        },
        "id": "UA8R0H8i0-sW",
        "outputId": "b1e0d6c1-c45a-46c5-8cc3-a3dff5416d1c"
      },
      "execution_count": 9,
      "outputs": [
        {
          "output_type": "stream",
          "name": "stdout",
          "text": [
            "1.loohcs ot gniog si eH\n",
            "2.loof\n"
          ]
        }
      ]
    },
    {
      "cell_type": "code",
      "source": [
        "# 3.  # 3.  Implement a Python function that takes a list of integers and returns a new list containing the squares of each number.\n",
        "\n",
        "def square(num_list):\n",
        "    sqr_list=[]\n",
        "    for i in num_list:\n",
        "      sqr_list.append(i**2)\n",
        "    return sqr_list\n",
        "\n",
        "\n",
        "\n",
        "num_list= [1,2,3,4,5,6,7,8,9,10]\n",
        "sqr_list= square(num_list)\n",
        "print(sqr_list)\n"
      ],
      "metadata": {
        "id": "xicW0DGL7HnM",
        "colab": {
          "base_uri": "https://localhost:8080/"
        },
        "outputId": "59752f6e-08fd-4bb1-bb00-3c30c85475f4"
      },
      "execution_count": 10,
      "outputs": [
        {
          "output_type": "stream",
          "name": "stdout",
          "text": [
            "[1, 4, 9, 16, 25, 36, 49, 64, 81, 100]\n"
          ]
        }
      ]
    },
    {
      "cell_type": "code",
      "source": [
        "# 4.  Write a Python function that checks if a given number is prime or not from 1 to 200.\n",
        "\n",
        "def is_prime(number):\n",
        "  if number <= 1:\n",
        "        return False\n",
        "  for i in range(2, int(number**0.5) + 1):\n",
        "        if number % i == 0:\n",
        "            return False\n",
        "  return True\n",
        "\n",
        "for number in range(1, 201):\n",
        "    if is_prime(number):\n",
        "        print(number)\n"
      ],
      "metadata": {
        "colab": {
          "base_uri": "https://localhost:8080/"
        },
        "id": "TsQ1hXqsbCIY",
        "outputId": "78245609-3a2c-4a61-fd68-a13cc90618c6"
      },
      "execution_count": 11,
      "outputs": [
        {
          "output_type": "stream",
          "name": "stdout",
          "text": [
            "2\n",
            "3\n",
            "5\n",
            "7\n",
            "11\n",
            "13\n",
            "17\n",
            "19\n",
            "23\n",
            "29\n",
            "31\n",
            "37\n",
            "41\n",
            "43\n",
            "47\n",
            "53\n",
            "59\n",
            "61\n",
            "67\n",
            "71\n",
            "73\n",
            "79\n",
            "83\n",
            "89\n",
            "97\n",
            "101\n",
            "103\n",
            "107\n",
            "109\n",
            "113\n",
            "127\n",
            "131\n",
            "137\n",
            "139\n",
            "149\n",
            "151\n",
            "157\n",
            "163\n",
            "167\n",
            "173\n",
            "179\n",
            "181\n",
            "191\n",
            "193\n",
            "197\n",
            "199\n"
          ]
        }
      ]
    },
    {
      "cell_type": "code",
      "source": [
        "# 5.  Create an iterator class in Python that generates the Fibonacci sequence up to a specified number of terms.\n",
        "\n",
        "fib=lambda n:n if n<=1 else fib(n-1)+fib(n-2)\n",
        "for i in range(10):\n",
        "  print(fib(i))\n"
      ],
      "metadata": {
        "colab": {
          "base_uri": "https://localhost:8080/"
        },
        "id": "oMewmMMlbnyK",
        "outputId": "e11e7ce2-5ebb-4f32-9cd8-03375e2c1b9d"
      },
      "execution_count": 12,
      "outputs": [
        {
          "output_type": "stream",
          "name": "stdout",
          "text": [
            "0\n",
            "1\n",
            "1\n",
            "2\n",
            "3\n",
            "5\n",
            "8\n",
            "13\n",
            "21\n",
            "34\n"
          ]
        }
      ]
    },
    {
      "cell_type": "code",
      "source": [
        "# 6. Write a generator function in Python that yields the powers of 2 up to a given exponent.\n",
        "\n",
        "def power_of_two_generator(exponent):\n",
        "  for i in range(exponent + 1):\n",
        "        yield 2**i"
      ],
      "metadata": {
        "id": "PN7P3w95lZ3t"
      },
      "execution_count": 13,
      "outputs": []
    },
    {
      "cell_type": "code",
      "source": [
        "powers = power_of_two_generator(5)\n",
        "for power in powers:\n",
        "    print(power)"
      ],
      "metadata": {
        "colab": {
          "base_uri": "https://localhost:8080/"
        },
        "id": "lcHOoYV8pI3I",
        "outputId": "b541101c-9ace-4fdf-aa56-4a95327a7853"
      },
      "execution_count": 14,
      "outputs": [
        {
          "output_type": "stream",
          "name": "stdout",
          "text": [
            "1\n",
            "2\n",
            "4\n",
            "8\n",
            "16\n",
            "32\n"
          ]
        }
      ]
    },
    {
      "cell_type": "code",
      "source": [
        "# 7. Implement a generator function that reads a file line by line and yields each line as a string.\n",
        "\n",
        "def read_file_lines(file_path):\n",
        "    with open(file_path, 'r') as file:\n",
        "        for line in file:\n",
        "            yield line.strip()"
      ],
      "metadata": {
        "id": "Fk0EeDJtpLRA"
      },
      "execution_count": 15,
      "outputs": []
    },
    {
      "cell_type": "code",
      "source": [
        "with open('my_file.txt', 'w') as f:\n",
        "    f.write(\"This is the first line.\\n\")\n",
        "    f.write(\"This is the second line.\\n\")\n",
        "    f.write(\"And this is the third line.\\n\")\n"
      ],
      "metadata": {
        "id": "ak1CC8tbqPrP"
      },
      "execution_count": 16,
      "outputs": []
    },
    {
      "cell_type": "code",
      "source": [
        "file_path = 'my_file.txt'\n",
        "lines = read_file_lines(file_path)"
      ],
      "metadata": {
        "id": "AikLPr_lrCXf"
      },
      "execution_count": 17,
      "outputs": []
    },
    {
      "cell_type": "code",
      "source": [
        "for line in lines:\n",
        "    print(line)"
      ],
      "metadata": {
        "colab": {
          "base_uri": "https://localhost:8080/"
        },
        "id": "degoTIUUrDw-",
        "outputId": "c5e53d14-6dc8-43dc-bb79-7f4acec0366d"
      },
      "execution_count": 18,
      "outputs": [
        {
          "output_type": "stream",
          "name": "stdout",
          "text": [
            "This is the first line.\n",
            "This is the second line.\n",
            "And this is the third line.\n"
          ]
        }
      ]
    },
    {
      "cell_type": "code",
      "source": [
        "# 8. Use a lambda function in Python to sort a list of tuples based on the second element of each tuple.\n",
        "\n",
        "list_of_tuples = [('a', 3), ('b', 1), ('c', 2)]\n",
        "sorted_list = sorted(list_of_tuples, key=lambda x: x[1])\n",
        "print(sorted_list)"
      ],
      "metadata": {
        "colab": {
          "base_uri": "https://localhost:8080/"
        },
        "id": "B8egLYEKrFrW",
        "outputId": "d5468c16-c963-43e8-8521-f46999d5966f"
      },
      "execution_count": 19,
      "outputs": [
        {
          "output_type": "stream",
          "name": "stdout",
          "text": [
            "[('b', 1), ('c', 2), ('a', 3)]\n"
          ]
        }
      ]
    },
    {
      "cell_type": "code",
      "source": [
        "# 9. Write a Python program that uses `map()` to convert a list of temperatures from Celsius to Fahrenheit.\n",
        "\n",
        "celsius_temperatures = [0, 10, 20, 30, 40]\n",
        "fahrenheit_temperatures = list(map(lambda c: (c * 9/5) + 32, celsius_temperatures))\n",
        "print(fahrenheit_temperatures)\n",
        "\n"
      ],
      "metadata": {
        "id": "-rm3suKzrySO",
        "colab": {
          "base_uri": "https://localhost:8080/"
        },
        "outputId": "a39070ed-21f0-4d3d-906e-ab2a53f01fb1"
      },
      "execution_count": 20,
      "outputs": [
        {
          "output_type": "stream",
          "name": "stdout",
          "text": [
            "[32.0, 50.0, 68.0, 86.0, 104.0]\n"
          ]
        }
      ]
    },
    {
      "cell_type": "code",
      "source": [
        "# 10.  Create a Python program that uses `filter()` to remove all the vowels from a given string.\n",
        "\n",
        "def remove_vowels(string):\n",
        "    vowels = 'aeiouAEIOU'\n",
        "    return ''.join(filter(lambda x: x not in vowels, string))\n",
        "\n",
        "string = \"I live in Kolakta\"\n",
        "print(remove_vowels(string))\n",
        "\n"
      ],
      "metadata": {
        "colab": {
          "base_uri": "https://localhost:8080/"
        },
        "id": "8_XRejb4cM9z",
        "outputId": "163c0312-4c9c-4a53-91ff-a8dbe1198dba"
      },
      "execution_count": 21,
      "outputs": [
        {
          "output_type": "stream",
          "name": "stdout",
          "text": [
            " lv n Klkt\n"
          ]
        }
      ]
    },
    {
      "cell_type": "code",
      "source": [
        "# 11.\n",
        "\n",
        "orders = [\n",
        "    [34587, \"Learning Python, Mark Lutz\", 4, 40.95],\n",
        "    [98762, \"Programming Python, Mark Lutz\", 5, 56.80],\n",
        "    [77226, \"Head First Python, Paul Barry\", 3, 32.95],\n",
        "    [88112, \"Einführung in Python3, Bernd Klein\", 3, 24.99]]\n",
        "calculate_total = lambda order: (order[0], order[2] * order[3] + (10 if order[2] * order[3] < 100 else 0))\n",
        "result = list(map(calculate_total, orders))\n",
        "print(result)"
      ],
      "metadata": {
        "id": "aal0GdcAeJXn",
        "colab": {
          "base_uri": "https://localhost:8080/"
        },
        "outputId": "b3fb1e04-f6cd-4622-bced-c8aeb16f6fef"
      },
      "execution_count": 22,
      "outputs": [
        {
          "output_type": "stream",
          "name": "stdout",
          "text": [
            "[(34587, 163.8), (98762, 284.0), (77226, 108.85000000000001), (88112, 84.97)]\n"
          ]
        }
      ]
    },
    {
      "cell_type": "code",
      "source": [],
      "metadata": {
        "id": "TiUvvYsK2lhR"
      },
      "execution_count": null,
      "outputs": []
    }
  ]
}